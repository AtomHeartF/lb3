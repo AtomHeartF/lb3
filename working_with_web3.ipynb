{
  "nbformat": 4,
  "nbformat_minor": 0,
  "metadata": {
    "colab": {
      "provenance": []
    },
    "kernelspec": {
      "name": "python3",
      "display_name": "Python 3"
    },
    "language_info": {
      "name": "python"
    }
  },
  "cells": [
    {
      "cell_type": "code",
      "execution_count": null,
      "metadata": {
        "id": "dkIL5LgXKI__"
      },
      "outputs": [],
      "source": [
        "!pip install web3\n",
        "!pip install py-solc-x\n",
        "!pip install eth-tester"
      ]
    },
    {
      "cell_type": "code",
      "source": [
        "import web3\n",
        "import solcx\n",
        "from web3 import Web3\n",
        "from solcx import install_solc\n",
        "install_solc(version='latest')\n",
        "from solcx import compile_source"
      ],
      "metadata": {
        "id": "rAkCGY17KouX"
      },
      "execution_count": 2,
      "outputs": []
    },
    {
      "cell_type": "markdown",
      "source": [
        "Создание экземпляра контракта"
      ],
      "metadata": {
        "id": "Uie28boZZbIo"
      }
    },
    {
      "cell_type": "code",
      "source": [
        "MyContract = compile_source(\n",
        "'''\n",
        "// SPDX-License-Identifier: MIT\n",
        "pragma solidity ^0.8.8;\n",
        "\n",
        "\n",
        "\n",
        "//import \"@openzeppelin/contracts/token/ERC20/ERC20.sol\";\n",
        "\n",
        "  /**\n",
        "   * @title Token\n",
        "   * @dev ContractDescription\n",
        "   * @custom:dev-run-script Token\n",
        "   */\n",
        "\n",
        "\n",
        "contract Token {\n",
        "\n",
        "\n",
        "    struct MyStructure {\n",
        "    // логический (флаг)\n",
        "    bool x1;\n",
        "    //знаковый числовой\n",
        "    int x2;\n",
        "    // адрес\n",
        "    address x3;\n",
        "    // четырехбайтовый (в описании не было приставки \"знаковый\", поэтому взял тип unit, без знака\n",
        "    uint32 x4;\n",
        "    }\n",
        "    // массив данных, в который будут добавляться данные в формате созданной структуры\n",
        "    MyStructure [] public StructureList;\n",
        "\n",
        "    //constructor(uint256 initialSupply) ERC20(\"Token\", \"TKN\") {\n",
        "    //    _mint(msg.sender, initialSupply);\n",
        "        \n",
        "    //}\n",
        "    // Функция добавления структуры данных в массив\n",
        "    // * почему-то не получается сделать функцию без return, поэтому просто возвращаю\n",
        "    // значение 1\n",
        "    function AddToList(bool _x1,int _x2,address _x3,uint32 _x4) public returns(int){\n",
        "         MyStructure memory a = MyStructure(_x1,_x2,_x3,_x4);\n",
        "        StructureList.push(a);\n",
        "        return 1;\n",
        "    }\n",
        "\n",
        "}\n",
        "''',output_values=['abi', 'bin'])"
      ],
      "metadata": {
        "id": "011jAkTC77rf"
      },
      "execution_count": 26,
      "outputs": []
    },
    {
      "cell_type": "code",
      "source": [
        "contract_id, contract_interface = MyContract.popitem()\n",
        "bytecode = contract_interface['bin']\n",
        "abi = contract_interface['abi']\n",
        "w3 = Web3(Web3.EthereumTesterProvider())\n",
        "w3.eth.default_account = w3.eth.accounts[0]\n",
        "Greeter = w3.eth.contract(abi=abi, bytecode=bytecode)"
      ],
      "metadata": {
        "id": "IFGBDCFfP5il"
      },
      "execution_count": 20,
      "outputs": []
    },
    {
      "cell_type": "markdown",
      "source": [
        "Вызов функции"
      ],
      "metadata": {
        "id": "q46ZSdTEZ4Fp"
      }
    },
    {
      "cell_type": "code",
      "source": [
        "Greeter.functions.AddToList(True,1,'0x0000000000000000000000000000000000000001',1)"
      ],
      "metadata": {
        "colab": {
          "base_uri": "https://localhost:8080/"
        },
        "id": "cVS-2JNdV-Sq",
        "outputId": "cf307853-a214-495f-f5e5-0fc1d76441de"
      },
      "execution_count": 34,
      "outputs": [
        {
          "output_type": "execute_result",
          "data": {
            "text/plain": [
              "<Function AddToList(bool,int256,address,uint32) bound to (True, 1, '0x0000000000000000000000000000000000000001', 1)>"
            ]
          },
          "metadata": {},
          "execution_count": 34
        }
      ]
    }
  ]
}